{
 "cells": [
  {
   "cell_type": "markdown",
   "metadata": {
    "colab_type": "text",
    "id": "pBBIOtMfoN7n"
   },
   "source": [
    "# Naive Bayes Classifier\n",
    "\n",
    "Welcome to your next lab! You will build Naive Bayes Classifier.\n",
    "\n",
    "You will classify spam/ham messages.\n",
    "\n",
    "**You will learn to:**\n",
    "- Build the general architecture of a learning algorithm with OOP in mind:\n",
    "    - Helper functions\n",
    "        - Preprocessing data\n",
    "    - Main Model Class\n",
    "        - Training\n",
    "        - Prediction \n"
   ]
  },
  {
   "cell_type": "markdown",
   "metadata": {
    "colab_type": "text",
    "id": "yxR6m91voN7o"
   },
   "source": [
    "## 1 - Packages ##\n",
    "\n",
    "First, let's run the cell below to import all the packages that you will need during this assignment.\n",
    "- [numpy](www.numpy.org) is the fundamental package for scientific computing with Python.\n",
    "- [pandas](https://pandas.pydata.org/) is a library providing a convenient work with data."
   ]
  },
  {
   "cell_type": "code",
   "execution_count": 1,
   "metadata": {
    "colab": {
     "autoexec": {
      "startup": false,
      "wait_interval": 0
     }
    },
    "colab_type": "code",
    "id": "4vGe_NzDoN7p"
   },
   "outputs": [],
   "source": [
    "import pandas as pd\n",
    "import numpy as np\n",
    "import re"
   ]
  },
  {
   "cell_type": "markdown",
   "metadata": {
    "colab_type": "text",
    "id": "GXerFAu6oN7s"
   },
   "source": [
    "## 2 - Overview of the Problem set ##\n",
    "\n",
    "**Problem Statement**: You are given a dataset  containing:\n",
    "    - a training set of m_train examples\n",
    "    - a test set of m_test examples\n",
    "    - each example is a message that belongs to a particular class: ham or spam.\n",
    "\n",
    "Let's get more familiar with the dataset. Load the data by running the following code.\n",
    "\n",
    "We won't divide our data to features(X) and target(Y) here, because we need to preprocess it in a special way."
   ]
  },
  {
   "cell_type": "code",
   "execution_count": 2,
   "metadata": {
    "colab": {
     "autoexec": {
      "startup": false,
      "wait_interval": 0
     }
    },
    "colab_type": "code",
    "id": "6557Cq7HoN7t"
   },
   "outputs": [],
   "source": [
    "# Loading the data \n",
    "\n",
    "def load_data():\n",
    "    df = pd.read_csv('spam.csv', encoding='latin-1')\n",
    "    df_for_tests = df.head()\n",
    "    \n",
    "    idx = np.arange(df.shape[0])\n",
    "    np.random.shuffle(idx)\n",
    "\n",
    "    train_set_size = int(df.shape[0] * 0.8)\n",
    "\n",
    "    train_set = df.loc[idx[:train_set_size]]\n",
    "    test_set = df.loc[idx[train_set_size:]]\n",
    "    \n",
    "    return train_set, test_set, df_for_tests"
   ]
  },
  {
   "cell_type": "code",
   "execution_count": 3,
   "metadata": {
    "colab": {
     "autoexec": {
      "startup": false,
      "wait_interval": 0
     }
    },
    "colab_type": "code",
    "id": "8Hlq5f8DoN7v"
   },
   "outputs": [],
   "source": [
    "train_set, test_set, df_for_tests = load_data()"
   ]
  },
  {
   "cell_type": "markdown",
   "metadata": {
    "colab_type": "text",
    "id": "1MBwTqvPoN7y"
   },
   "source": [
    "## 3 - Naive Bayes Classifier\n",
    "**Mathematical expression of the algorithm**:\n",
    "\n",
    "\n",
    "This algorithm is based on Bayes' theorem:\n",
    "    $$ \\begin{equation}\n",
    "    P(A_{j}\\hspace{0.1cm}\\rvert\\hspace{0.1cm}x_{1},\\dots,x_{n}) = \\frac{P(x_{1},\\dots,x_{n}\\hspace{0.1cm}\\rvert\\hspace{0.1cm}A_{j})P(A_{j})}{P(x_{1},\\dots,x_{n})} \n",
    "    \\end{equation}$$\n",
    "    \n",
    "Ignoring denominator (because it stays the same for all cases):\n",
    "\n",
    "$$ \\begin{equation}\n",
    "    P(A_{j})P(x_{1},\\dots,x_{n}\\hspace{0.1cm}\\rvert\\hspace{0.1cm}A_{j}) = P(A_{j}, x_{1},\\dots,x_{n}) = \\\\\n",
    "  \\hspace{1cm} = P(x_{1}\\hspace{0.1cm}\\rvert\\hspace{0.1cm}x_{2},\\dots,x_{n}, A_{j})P(x_{2}\\hspace{0.1cm}\\rvert\\hspace{0.1cm}x_{3}, \\dots ,x_{n}, A_{j})\\dots P(x_{n-1}\\hspace{0.1cm}\\rvert\\hspace{0.1cm}x_{n}, A_{j}) \\approx \\\\\n",
    "  \\hspace{1cm}\n",
    "  \\end{equation}$$\n",
    "By making an assumption that the $x_{i}$ are conditionally independent of each other:\n",
    "$$ \\begin{equation} \\approx P(A_{j}) \\prod_{i=1}^{n} P(x_{i}\\hspace{0.1cm}\\rvert\\hspace{0.1cm}A_{j})\n",
    "   \\end{equation}$$\n",
    "   \n",
    "We can calculate the probability, if we know the prior probability:\n",
    "\n",
    "$$ \\begin{equation}\n",
    "    y^{*} = \\operatorname*{arg\\,max}_{j} \\big(P(A_{j}) \\prod_{i=1}^{n} P(x_{i}\\hspace{0.1cm}\\rvert\\hspace{0.1cm}A_{j})\\big)\n",
    "   \\end{equation}$$\n",
    "   \n",
    "   \n",
    "Due to floating point underflow, the above is usually replaced with the numerically tractable expression:\n",
    "\n",
    "$$ \\begin{equation}\n",
    "    y^{*} = \\operatorname*{arg\\,max}_{j} \\big( \\ln(P(A_{j})) + \\sum_{i=1}^{n} \\ln(P(x_{i}\\hspace{0.1cm}\\rvert\\hspace{0.1cm}A_{j})) \\big)\n",
    "   \\end{equation}$$\n",
    "   \n",
    "   \n",
    "#### Laplace smoothing\n",
    "\n",
    "In statistics, additive smoothing, also called Laplace smoothing, or Lidstone smoothing, is a technique that is used to smooth categorical data. Given an observation \n",
    "$\\begin{equation}\n",
    "    x = (x_{1}\\, \\dots \\,x_{k})\n",
    " \\end{equation}$ from a multinomial distribution with N trials, a \"smoothed\" version of the data gives the estimator:\n",
    "\n",
    "$$ \\begin{equation}\n",
    "    \\theta_i = \\frac{x_{i} + \\alpha}{N + \\alpha k}\n",
    "   \\end{equation}$$\n",
    "\n",
    "where the pseudocount \n",
    "$\\begin{equation}\n",
    "    \\alpha > 0\n",
    " \\end{equation}$ is the smoothing parameter (\n",
    "$\\begin{equation}\n",
    "    \\alpha = 0\n",
    " \\end{equation}$ corresponds to no smoothing)."
   ]
  },
  {
   "cell_type": "markdown",
   "metadata": {
    "colab_type": "text",
    "id": "pqulLuySoN7y"
   },
   "source": [
    "### 3.1 - Preprocessing the data \n",
    "\n",
    "Our data consists of different messages. Messages contain some excess symbols, which don't affect the content of the text, but add noise to the data.\n",
    "For example: \"Does not \\\\operate 66.7 after  & lt;# & gt;  or what\". \n",
    "\n",
    "Let's clean our data and leave only letters a-z, A-Z, numbers 0-9 and cast all letters to lowercase, replace double to n spaces with just one space, remove trailing spaces."
   ]
  },
  {
   "cell_type": "code",
   "execution_count": 4,
   "metadata": {
    "colab": {
     "autoexec": {
      "startup": false,
      "wait_interval": 0
     }
    },
    "colab_type": "code",
    "id": "ayUKEFieoN7z"
   },
   "outputs": [],
   "source": [
    "# Clean the data\n",
    "\n",
    "def clean_data(message):\n",
    "    \n",
    "    \"\"\" \n",
    "    Returns string which consists of message words\n",
    "    \n",
    "    Argument:\n",
    "    message -- message from dataset; \n",
    "        type(message) -> <class 'str'>\n",
    "    \n",
    "    Returns:\n",
    "    result -- cleaned message, which contains only letters a-z, and numbers 0-9, with only one space between words;\n",
    "        type(clean_data(message)) -> <class 'str'>\n",
    "    \n",
    "    \"\"\"\n",
    "    \n",
    "    ### START CODE HERE ###\n",
    "    message = message.lower()\n",
    "    message = re.sub(r'[^a-z0-9 ]+', '', message) #stay only exeptable symbols\n",
    "    message = re.sub(r'\\s+', ' ', message)  #clean all overload whitespaces\n",
    "    return message\n",
    "    ### END CODE HERE ###"
   ]
  },
  {
   "cell_type": "code",
   "execution_count": 5,
   "metadata": {
    "colab": {
     "autoexec": {
      "startup": false,
      "wait_interval": 0
     }
    },
    "colab_type": "code",
    "id": "n1vihNSioN71"
   },
   "outputs": [
    {
     "name": "stdout",
     "output_type": "stream",
     "text": [
      "cleaned:  does not operate 667 after lt gt or what\n"
     ]
    }
   ],
   "source": [
    "sentence = 'Does not     \\\\operate 66.7 after & lt;# & gt; or what'\n",
    "print('cleaned: ',clean_data(sentence))"
   ]
  },
  {
   "cell_type": "markdown",
   "metadata": {
    "colab_type": "text",
    "id": "jnplMCg5oN72"
   },
   "source": [
    "**Expected Output**: \n",
    "\n",
    "<table style=\"width:50%\">\n",
    "    <tr>\n",
    "       <td> **cleaned:** </td>\n",
    "       <td> does not operate 667 after lt gt or what </td>\n",
    "    </tr>\n",
    "    \n",
    "\n",
    "</table>"
   ]
  },
  {
   "cell_type": "markdown",
   "metadata": {
    "colab_type": "text",
    "id": "Qpw00NPXoN74"
   },
   "source": [
    "Now let's clean each sentence and split data on features(X) and target(Y)"
   ]
  },
  {
   "cell_type": "code",
   "execution_count": 6,
   "metadata": {
    "colab": {
     "autoexec": {
      "startup": false,
      "wait_interval": 0
     }
    },
    "colab_type": "code",
    "id": "W4EAfhKRoN74"
   },
   "outputs": [],
   "source": [
    "# Preparation data for model\n",
    "\n",
    "def prep_for_model(train_set, test_set):\n",
    "    \n",
    "    \"\"\" \n",
    "    Returns arrays of train/test features(words) and train/test targets(labels)\n",
    "    \n",
    "    Arguments:\n",
    "    train_set -- train dataset, which consists of train messages and labels; \n",
    "        type(train_set) -> pandas.core.frame.DataFrame\n",
    "    test_set -- test dataset, which consists of test messages and labels; \n",
    "        type(train_set) -> pandas.core.frame.DataFrame\n",
    "    \n",
    "    Returns:\n",
    "    train_set_x -- array which contains lists of words of each cleaned train message; \n",
    "        (type(train_set_x) ->numpy.ndarray[list[str]], train_set_x.shape = (num_messages,))\n",
    "    train_set_y -- array of train labels (names of classes), \n",
    "        (type(train_set_y) -> numpy.ndarray, train_set_y.shape = (num_messages,))\n",
    "    test_set_x -- array which contains lists of words of each cleaned test message;\n",
    "        (type(test_set_x) numpy.ndarray[list[str]], test_set_x.shape = (num_messages,)\n",
    "    test_set_y -- array of test labels (names of classes), \n",
    "        (type(test_set_y) -> numpy.ndarray, test_set_y.shape = (num_messages,))\n",
    "    \n",
    "    \"\"\"\n",
    "    \n",
    "    ### START CODE HERE ###\n",
    "    train_set_y = train_set.v1.values\n",
    "    train_set_x = train_set.v2.apply(clean_data).str.split().values\n",
    "    test_set_y = test_set.v1.values\n",
    "    test_set_x = test_set.v2.apply(clean_data).str.split().values\n",
    "    ### END CODE HERE ###\n",
    "    \n",
    "    return train_set_x, train_set_y, test_set_x, test_set_y\n",
    "\n",
    "train_set_x, train_set_y, test_set_x, test_set_y = prep_for_model(train_set, test_set)"
   ]
  },
  {
   "cell_type": "code",
   "execution_count": 7,
   "metadata": {
    "colab": {
     "autoexec": {
      "startup": false,
      "wait_interval": 0
     }
    },
    "colab_type": "code",
    "id": "NI4LrsxDoN77"
   },
   "outputs": [
    {
     "name": "stdout",
     "output_type": "stream",
     "text": [
      "ham: ['go', 'until', 'jurong', 'point', 'crazy', 'available', 'only', 'in', 'bugis', 'n', 'great', 'world', 'la', 'e', 'buffet', 'cine', 'there', 'got', 'amore', 'wat']\n",
      "ham: ['u', 'dun', 'say', 'so', 'early', 'hor', 'u', 'c', 'already', 'then', 'say']\n"
     ]
    }
   ],
   "source": [
    "a1, a2, b1, b2 = prep_for_model(df_for_tests.head(3), df_for_tests.tail(2))\n",
    "print(a2[0], a1[0], sep = ': ')\n",
    "print(b2[0], b1[0], sep = ': ')"
   ]
  },
  {
   "cell_type": "markdown",
   "metadata": {
    "colab_type": "text",
    "id": "SC98c4iyoN7-"
   },
   "source": [
    "**Expected Output**: \n",
    "\n",
    "<table style=\"width:40%\">\n",
    "    <tr>\n",
    "       <td> **ham:** </td>\n",
    "       <td> ['go', 'until', 'jurong', 'point', 'crazy', 'available', 'only', 'in', 'bugis', 'n', 'great', 'world', 'la', 'e', 'buffet', 'cine', 'there', 'got', 'amore', 'wat'] </td>\n",
    "    </tr>\n",
    "    <tr>\n",
    "       <td> **ham:** </td>\n",
    "       <td> ['u', 'dun', 'say', 'so', 'early', 'hor', 'u', 'c', 'already', 'then', 'say']\n",
    " </td>\n",
    "    </tr>\n",
    "\n",
    "</table>"
   ]
  },
  {
   "cell_type": "markdown",
   "metadata": {
    "colab_type": "text",
    "id": "s77YENa5oN7-"
   },
   "source": [
    "Now let's check words in each category"
   ]
  },
  {
   "cell_type": "code",
   "execution_count": 8,
   "metadata": {
    "colab": {
     "autoexec": {
      "startup": false,
      "wait_interval": 0
     }
    },
    "colab_type": "code",
    "id": "ccrYa2NLoN7_"
   },
   "outputs": [],
   "source": [
    "# Check words in categories\n",
    "\n",
    "def categories_words(x_train, y_train):\n",
    "    \n",
    "    \"\"\"\n",
    "    Returns arrays of features(words) in each category and in both categories\n",
    "    \n",
    "    Arguments:\n",
    "    x_train -- array which contains lists of words of each cleaned train message; \n",
    "        (type(x_train) -> numpy.ndarray[list[str]], x_train.shape = (num_messages,))\n",
    "    \n",
    "    Returns:\n",
    "    all_words_list -- array of all words in both categories;\n",
    "        (type(all_words_list) -> numpy.ndarray[str], all_words_list.shape = (num_words,))\n",
    "    ham_words_list -- array of words in 'ham' class;\n",
    "        (type(ham_words_list) -> numpy.ndarray[str], ham_words_list.shape = (num_words,))\n",
    "    spam_words_list -- array of words in 'spam' class;\n",
    "        (type(spam_words_list) -> numpy.ndarray[str], spam_words_list.shape = (num_words,))        \n",
    "    \"\"\"\n",
    "    all_words_list = []\n",
    "    ham_words_list = []\n",
    "    spam_words_list = []\n",
    "    \n",
    "    ### START CODE HERE ###\n",
    "    all_words_list = np.concatenate(x_train)\n",
    "    ham_words_list = np.concatenate(x_train[np.where(y_train == 'ham')])\n",
    "    spam_words_list = np.concatenate(x_train[np.where(y_train == 'spam')])\n",
    "    ### END CODE HERE ###\n",
    "    \n",
    "    return all_words_list, ham_words_list, spam_words_list\n",
    "\n",
    "all_words_list_a1, ham_words_list_a1, spam_words_list_a1 = categories_words(a1, a2)"
   ]
  },
  {
   "cell_type": "code",
   "execution_count": 9,
   "metadata": {
    "colab": {
     "autoexec": {
      "startup": false,
      "wait_interval": 0
     }
    },
    "colab_type": "code",
    "id": "5uRRSQ-uoN8B"
   },
   "outputs": [
    {
     "name": "stdout",
     "output_type": "stream",
     "text": [
      "first five \"ham\" words of a1:  ['go' 'until' 'jurong' 'point' 'crazy']\n"
     ]
    }
   ],
   "source": [
    "print('first five \"ham\" words of a1: ', ham_words_list_a1[:5])"
   ]
  },
  {
   "cell_type": "markdown",
   "metadata": {
    "colab_type": "text",
    "id": "VqMdeuaHoN8D"
   },
   "source": [
    "**Expected Output**: \n",
    "\n",
    "<table style=\"width:40%\">\n",
    "    <tr>\n",
    "       <td> **first five \"ham\" words of a1:** </td>\n",
    "       <td> ['go' 'until' 'jurong' 'point' 'crazy'] </td>\n",
    "    </tr>\n",
    "\n",
    "</table>"
   ]
  },
  {
   "cell_type": "markdown",
   "metadata": {
    "colab_type": "text",
    "id": "y8Ra1bB2oN8D"
   },
   "source": [
    "### 3.2 Model"
   ]
  },
  {
   "cell_type": "code",
   "execution_count": 10,
   "metadata": {
    "colab": {
     "autoexec": {
      "startup": false,
      "wait_interval": 0
     }
    },
    "colab_type": "code",
    "id": "aUbT1l_7oN8E"
   },
   "outputs": [],
   "source": [
    "class Naive_Bayes(object):\n",
    "    \"\"\"\n",
    "    Parameters:\n",
    "    -----------\n",
    "    alpha: int\n",
    "        The smoothing coeficient.\n",
    "    \"\"\"\n",
    "    def __init__(self, alpha):\n",
    "        self.alpha = alpha\n",
    "        \n",
    "        self.train_set_x = None\n",
    "        self.train_set_y = None\n",
    "        \n",
    "        self.all_words_list = []\n",
    "        self.ham_words_list = []\n",
    "        self.spam_words_list = []\n",
    "    \n",
    "    def fit(self, train_set_x, train_set_y):\n",
    "        \n",
    "        # Generate all_words_list, ham_words_list, spam_words_list using function 'categories_words' - isn't unique (!); \n",
    "        # Calculate probability of each unique (!) word in both categories\n",
    "        self.train_set_x = train_set_x\n",
    "        self.train_set_y = train_set_y\n",
    "        self.all_words_list, self.ham_words_list, self.spam_words_list = categories_words(train_set_x, train_set_y)\n",
    "        \n",
    "        unique_ham, counts_ham = np.unique(self.ham_words_list, return_counts=True)\n",
    "        unique_spam, counts_spam = np.unique(self.spam_words_list, return_counts = True)\n",
    "        \n",
    "#         N_of_all_words = len(self.all_words_list)\n",
    "        N_of_ham_words = len(self.ham_words_list)\n",
    "        N_of_spam_words = len(self.spam_words_list)\n",
    "        N_of_all_words = len(np.unique(self.all_words_list))\n",
    "#         N_of_ham_words = len(unique_ham)\n",
    "#         N_of_spam_words = len(unique_spam)\n",
    "        \n",
    "        self.ham_words_list = dict(zip(unique_ham, (counts_ham+self.alpha)/(self.alpha*N_of_all_words+\n",
    "                                                                            N_of_ham_words)))\n",
    "        self.spam_words_list = dict(zip(unique_spam, (counts_spam+self.alpha)/(self.alpha*N_of_all_words+\n",
    "                                                                   N_of_spam_words)))\n",
    "    def predict(self, test_set_x):\n",
    "        \n",
    "        # Return list of predicted labels for test set; type(prediction) -> list, len(prediction) = len(test_set_y)\n",
    "        ### START CODE HERE ###\n",
    "        \n",
    "        P_ham = len(self.train_set_y[self.train_set_y == 'ham'])/len(self.train_set_y)\n",
    "        P_spam = len(self.train_set_y[self.train_set_y == 'spam'])/len(self.train_set_y)\n",
    "        \n",
    "        N_of_ham_words = len(self.ham_words_list)\n",
    "        N_of_spam_words = len(self.spam_words_list)\n",
    "        N_of_all_words = len(np.unique(self.all_words_list))\n",
    "        \n",
    "        P_is_new_ham = self.alpha/(self.alpha*N_of_all_words+N_of_ham_words)\n",
    "        P_is_new_spam = self.alpha/(self.alpha*N_of_all_words+N_of_spam_words)\n",
    "\n",
    "        prediction = []\n",
    "        \n",
    "        for letter in test_set_x:\n",
    "            ham_sum = np.log(P_ham)\n",
    "            spam_sum = np.log(P_spam)\n",
    "            for word in letter:\n",
    "                if word in self.ham_words_list.keys():\n",
    "                    ham_sum = np.sum([ham_sum, np.log(self.ham_words_list[word])])\n",
    "                else:\n",
    "                    ham_sum = np.sum([ham_sum, np.log(P_is_new_ham)])\n",
    "                if word in self.spam_words_list.keys():\n",
    "                    spam_sum = np.sum([spam_sum, np.log(self.spam_words_list[word])])\n",
    "                else:\n",
    "                    spam_sum = np.sum([spam_sum, np.log(P_is_new_spam)])\n",
    "            if spam_sum > ham_sum:\n",
    "                prediction.append('spam')\n",
    "            else:\n",
    "                prediction.append('ham')\n",
    "        ## END CODE HERE ### \n",
    "        return prediction"
   ]
  },
  {
   "cell_type": "markdown",
   "metadata": {
    "colab_type": "text",
    "id": "3nbumxE8oN8G"
   },
   "source": [
    "## 4 - Training"
   ]
  },
  {
   "cell_type": "markdown",
   "metadata": {
    "colab_type": "text",
    "id": "r7wWcFNHoN8G"
   },
   "source": [
    "First of all, we should define a smoothing coeficient (`alpha`)."
   ]
  },
  {
   "cell_type": "code",
   "execution_count": 11,
   "metadata": {
    "colab": {
     "autoexec": {
      "startup": false,
      "wait_interval": 0
     }
    },
    "colab_type": "code",
    "id": "E1ndCBqkoN8I"
   },
   "outputs": [],
   "source": [
    "a = 1"
   ]
  },
  {
   "cell_type": "markdown",
   "metadata": {
    "colab_type": "text",
    "id": "o0pfd36CoN8K"
   },
   "source": [
    "Now we can initialize our model:"
   ]
  },
  {
   "cell_type": "code",
   "execution_count": 12,
   "metadata": {
    "colab": {
     "autoexec": {
      "startup": false,
      "wait_interval": 0
     }
    },
    "colab_type": "code",
    "id": "plEFwr6moN8L"
   },
   "outputs": [],
   "source": [
    "model = Naive_Bayes(alpha=a)"
   ]
  },
  {
   "cell_type": "markdown",
   "metadata": {
    "colab_type": "text",
    "id": "Wv6Z_70moN8N"
   },
   "source": [
    "Let's train our model:"
   ]
  },
  {
   "cell_type": "code",
   "execution_count": 13,
   "metadata": {
    "colab": {
     "autoexec": {
      "startup": false,
      "wait_interval": 0
     }
    },
    "colab_type": "code",
    "id": "a-YAd8PkoN8O"
   },
   "outputs": [],
   "source": [
    "model.fit(train_set_x, train_set_y)"
   ]
  },
  {
   "cell_type": "markdown",
   "metadata": {
    "colab_type": "text",
    "id": "wX7VisQHoN8P"
   },
   "source": [
    "## 5 - Making predictions"
   ]
  },
  {
   "cell_type": "code",
   "execution_count": 14,
   "metadata": {
    "colab": {
     "autoexec": {
      "startup": false,
      "wait_interval": 0
     }
    },
    "colab_type": "code",
    "id": "W80fKmYQoN8Q"
   },
   "outputs": [],
   "source": [
    "y_predictions = model.predict(test_set_x)"
   ]
  },
  {
   "cell_type": "markdown",
   "metadata": {
    "colab_type": "text",
    "id": "9eDNpR6-oN8S"
   },
   "source": [
    "Let's calculate accuracy (accuracy of model must be >0.95):"
   ]
  },
  {
   "cell_type": "code",
   "execution_count": 15,
   "metadata": {
    "colab": {
     "autoexec": {
      "startup": false,
      "wait_interval": 0
     }
    },
    "colab_type": "code",
    "id": "eN5BImmqoN8S"
   },
   "outputs": [
    {
     "name": "stdout",
     "output_type": "stream",
     "text": [
      "0.9775784753363229\n"
     ]
    }
   ],
   "source": [
    "actual = list(test_set_y)\n",
    "accuracy = (y_predictions == test_set_y).mean()\n",
    "print(accuracy)"
   ]
  },
  {
   "cell_type": "code",
   "execution_count": 16,
   "metadata": {},
   "outputs": [],
   "source": [
    "from sklearn.naive_bayes import MultinomialNB"
   ]
  },
  {
   "cell_type": "markdown",
   "metadata": {
    "colab_type": "text",
    "id": "fsQDfFcsoN8U"
   },
   "source": [
    "## 6 - Conclusion\n",
    "As we can see, our model fits well the hypothesis function to the data.\n",
    "\n",
    "#### What's next:\n",
    "1. Try experimenting with the `alpha` to see how this affects the model you have built.\n",
    "2. Compare the results you have obtained with the `sklearn.naive_bayes.MultinomialNB` model.\n",
    "3. Try this model in the wild! Select your favorite dataset [here](https://www.kaggle.com/datasets?sortBy=hottest&group=public&page=1&pageSize=20&size=small&filetype=all&license=all&tagids=13303) and play with it."
   ]
  }
 ],
 "metadata": {
  "colab": {
   "default_view": {},
   "name": "NBC.ipynb",
   "provenance": [],
   "version": "0.3.2",
   "views": {}
  },
  "kernelspec": {
   "display_name": "Python 3",
   "language": "python",
   "name": "python3"
  },
  "language_info": {
   "codemirror_mode": {
    "name": "ipython",
    "version": 3
   },
   "file_extension": ".py",
   "mimetype": "text/x-python",
   "name": "python",
   "nbconvert_exporter": "python",
   "pygments_lexer": "ipython3",
   "version": "3.6.2"
  }
 },
 "nbformat": 4,
 "nbformat_minor": 1
}
