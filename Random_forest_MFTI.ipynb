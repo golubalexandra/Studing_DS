{
 "cells": [
  {
   "cell_type": "code",
   "execution_count": 1,
   "metadata": {},
   "outputs": [],
   "source": [
    "import numpy as np\n",
    "import pandas as pd"
   ]
  },
  {
   "cell_type": "code",
   "execution_count": 58,
   "metadata": {},
   "outputs": [
    {
     "name": "stdout",
     "output_type": "stream",
     "text": [
      "Populating the interactive namespace from numpy and matplotlib\n"
     ]
    }
   ],
   "source": [
    "%pylab inline"
   ]
  },
  {
   "cell_type": "code",
   "execution_count": 53,
   "metadata": {},
   "outputs": [],
   "source": [
    "from sklearn.datasets import load_digits\n",
    "from sklearn import ensemble, metrics\n",
    "from sklearn.model_selection import cross_val_score\n",
    "from sklearn.tree import DecisionTreeClassifier\n",
    "from sklearn.model_selection import GridSearchCV"
   ]
  },
  {
   "cell_type": "markdown",
   "metadata": {},
   "source": [
    "## Описание датасета"
   ]
  },
  {
   "cell_type": "code",
   "execution_count": 7,
   "metadata": {},
   "outputs": [],
   "source": [
    "digits = load_digits()"
   ]
  },
  {
   "cell_type": "code",
   "execution_count": 8,
   "metadata": {},
   "outputs": [],
   "source": [
    "digit_data = digits.data\n",
    "digit_label = digits.target"
   ]
  },
  {
   "cell_type": "code",
   "execution_count": 14,
   "metadata": {},
   "outputs": [
    {
     "name": "stdout",
     "output_type": "stream",
     "text": [
      "(1797, 64)\n",
      "(1797,)\n"
     ]
    }
   ],
   "source": [
    "print(digit_data.shape)\n",
    "print(digit_label.shape)"
   ]
  },
  {
   "cell_type": "markdown",
   "metadata": {},
   "source": [
    "## Задание 1\n",
    "\n",
    "Создайте DecisionTreeClassifier с настройками по умолчанию и измерьте качество его работы с помощью cross_val_score."
   ]
  },
  {
   "cell_type": "code",
   "execution_count": 37,
   "metadata": {},
   "outputs": [],
   "source": [
    "DTC = DecisionTreeClassifier()"
   ]
  },
  {
   "cell_type": "code",
   "execution_count": 38,
   "metadata": {
    "collapsed": true
   },
   "outputs": [
    {
     "name": "stdout",
     "output_type": "stream",
     "text": [
      "0.8376323169526266\n",
      "0.8236119291519062\n",
      "0.8365307583603357\n",
      "0.8291883822879026\n",
      "0.8369136021348286\n",
      "0.8258558327950943\n",
      "0.8240671061935887\n",
      "0.8309064466411584\n",
      "0.8241684328174037\n",
      "0.8259174822447337\n"
     ]
    }
   ],
   "source": [
    "# посмотрели кач-во работы на 10 запусках алгоритма.\n",
    "for i in range(10):\n",
    "    ans = cross_val_score(DTC, digit_data, digit_label, cv = 10).mean()\n",
    "    print(ans)"
   ]
  },
  {
   "cell_type": "code",
   "execution_count": 39,
   "metadata": {},
   "outputs": [],
   "source": [
    "#записали в ответ последний, по сути разница между ними небольшая.\n",
    "with open(\"ans1.txt\", \"w\") as fout:\n",
    "    fout.write(str(ans))"
   ]
  },
  {
   "cell_type": "markdown",
   "metadata": {},
   "source": [
    "## Задание 2\n",
    "\n",
    "Воспользуйтесь BaggingClassifier из sklearn.ensemble, чтобы обучить бэггинг над DecisionTreeClassifier. Используйте в BaggingClassifier параметры по умолчанию, задав только количество деревьев равным 100.\n",
    "\n",
    "Качество классификации новой модели - ответ в пункте 2. Обратите внимание, как соотносится качество работы композиции решающих деревьев с качеством работы одного решающего дерева."
   ]
  },
  {
   "cell_type": "code",
   "execution_count": 41,
   "metadata": {},
   "outputs": [],
   "source": [
    "BC = ensemble.BaggingClassifier(DTC, n_estimators=100)"
   ]
  },
  {
   "cell_type": "code",
   "execution_count": 42,
   "metadata": {
    "collapsed": true
   },
   "outputs": [
    {
     "name": "stdout",
     "output_type": "stream",
     "text": [
      "0.9265234453737332\n",
      "0.9215717705574089\n",
      "0.923192749643355\n",
      "0.9282039386814216\n",
      "0.9260484970085493\n",
      "0.9288012995210224\n",
      "0.9271020661699559\n",
      "0.9215858060217702\n",
      "0.9248501041670588\n",
      "0.9237576409129489\n"
     ]
    }
   ],
   "source": [
    "for _ in range(10):\n",
    "    ans2 = cross_val_score(BC, digit_data, digit_label, cv = 10).mean()\n",
    "    print(ans2)"
   ]
  },
  {
   "cell_type": "code",
   "execution_count": 43,
   "metadata": {},
   "outputs": [],
   "source": [
    "with open(\"ans2.txt\", \"w\") as fout:\n",
    "    fout.write(str(ans2))"
   ]
  },
  {
   "cell_type": "markdown",
   "metadata": {},
   "source": [
    "## Задание 3\n",
    "\n",
    "Теперь изучите параметры BaggingClassifier и выберите их такими, чтобы каждый базовый алгоритм обучался не на всех d признаках, а на $\\sqrt{d}$ \n",
    "​\t  случайных признаков. Качество работы получившегося классификатора - ответ в пункте 3. Корень из числа признаков - часто используемая эвристика в задачах классификации, в задачах регрессии же часто берут число признаков, деленное на три. Но в общем случае ничто не мешает вам выбирать любое другое число случайных признаков."
   ]
  },
  {
   "cell_type": "code",
   "execution_count": 45,
   "metadata": {},
   "outputs": [],
   "source": [
    "max_features = int(np.sqrt(digit_data.shape[1]))\n",
    "\n",
    "BC_sqrt = ensemble.BaggingClassifier(DTC, n_estimators=100, max_features = max_features)"
   ]
  },
  {
   "cell_type": "code",
   "execution_count": 46,
   "metadata": {},
   "outputs": [
    {
     "name": "stdout",
     "output_type": "stream",
     "text": [
      "0.9310012206122658\n",
      "0.9382069089440345\n",
      "0.9371355295686039\n",
      "0.9332636972866037\n",
      "0.9342816485145299\n"
     ]
    }
   ],
   "source": [
    "for _ in range(5):\n",
    "    ans3 = cross_val_score(BC_sqrt, digit_data, digit_label, cv = 10).mean()\n",
    "    print(ans3)"
   ]
  },
  {
   "cell_type": "code",
   "execution_count": 47,
   "metadata": {},
   "outputs": [],
   "source": [
    "with open(\"ans3.txt\", \"w\") as fout:\n",
    "    fout.write(str(ans3))"
   ]
  },
  {
   "cell_type": "markdown",
   "metadata": {},
   "source": [
    "## Задание 4\n",
    "\n",
    "Наконец, давайте попробуем выбирать случайные признаки не один раз на все дерево, а при построении каждой вершины дерева. Сделать это несложно: нужно убрать выбор случайного подмножества признаков в BaggingClassifier и добавить его в DecisionTreeClassifier. Какой параметр за это отвечает, можно понять из документации sklearn, либо просто попробовать угадать (скорее всего, у вас сразу получится). Попробуйте выбирать опять же $\\sqrt{d}$ \n",
    "​\t  признаков. Качество полученного классификатора на контрольной выборке и будет ответом в пункте "
   ]
  },
  {
   "cell_type": "code",
   "execution_count": 48,
   "metadata": {},
   "outputs": [],
   "source": [
    "DTC_sqrt_feat = DecisionTreeClassifier(max_features = max_features)"
   ]
  },
  {
   "cell_type": "code",
   "execution_count": 49,
   "metadata": {},
   "outputs": [],
   "source": [
    "BC_sqrt_DTC  = ensemble.BaggingClassifier(DTC_sqrt_feat, n_estimators=100)"
   ]
  },
  {
   "cell_type": "code",
   "execution_count": 50,
   "metadata": {},
   "outputs": [
    {
     "name": "stdout",
     "output_type": "stream",
     "text": [
      "0.9544438613104905\n",
      "0.9517271926908577\n",
      "0.9511498725147659\n",
      "0.9522520300714994\n",
      "0.9511742648571412\n"
     ]
    }
   ],
   "source": [
    "for _ in range(5):\n",
    "    ans4 = cross_val_score(BC_sqrt_DTC, digit_data, digit_label, cv = 10).mean()\n",
    "    print(ans4)"
   ]
  },
  {
   "cell_type": "code",
   "execution_count": 51,
   "metadata": {},
   "outputs": [],
   "source": [
    "with open(\"ans4.txt\", \"w\") as fout:\n",
    "    fout.write(str(ans4))"
   ]
  },
  {
   "cell_type": "markdown",
   "metadata": {},
   "source": [
    "## Задание 5\n",
    "\n",
    "Почему бы не сравнить качество работы классификатора с RandomForestClassifier из sklearn.ensemble. Сделайте это, а затем изучите, как качество классификации на данном датасете зависит от количества деревьев, количества признаков, выбираемых при построении каждой вершины дерева, а также ограничений на глубину дерева. Для наглядности построить графики зависимости качества от значений параметров.\n",
    "\n",
    "На основе наблюдений выпишите через пробел номера правильных утверждений из приведенных ниже в порядке возрастания номера.\n",
    "\n",
    "$-$ 1) Случайный лес сильно переобучается с ростом количества деревьев.\n",
    "\n",
    "$+$ 2) При очень маленьком числе деревьев (5, 10, 15), случайный лес работает хуже, чем при большем числе деревьев.\n",
    "\n",
    "$+$ 3) С ростом количества деревьев в случайном лесе, в какой-то момент деревьев становится достаточно для высокого качества классификации, а затем качество существенно не меняется.\n",
    "\n",
    "$+$ 4) При большом количестве признаков (для данного датасета - 40, 50) качество классификации становится хуже, чем при малом количестве признаков (5, 10). Это связано с тем, что чем меньше признаков выбирается в каждом узле, тем более различными получаются деревья (ведь деревья сильно неустойчивы к изменениям в обучающей выборке), и тем лучше работает их композиция.\n",
    "\n",
    "$-$ 5) При большом количестве признаков (40, 50, 60) качество классификации лучше, чем при малом количестве признаков (5, 10). Это связано с тем, что чем больше признаков - тем больше информации об объектах, а значит алгоритм может делать прогнозы более точно.\n",
    "\n",
    "$-$ 6) При небольшой максимальной глубине деревьев (5-6) качество работы случайного леса намного лучше, чем без ограничения глубины, т.к. деревья получаются не переобученными. С ростом глубины деревьев качество ухудшается.\n",
    "\n",
    "$+$ 7) При небольшой максимальной глубине деревьев (5-6) качество работы случайного леса заметно хуже, чем без ограничений, т.к. деревья получаются недообученными. С ростом глубины качество сначала улучшается, а затем не меняется существенно, т.к. из-за усреднения прогнозов и различий деревьев их переобученность в бэггинге не сказывается на итоговом качестве (все деревья преобучены по-разному, и при усреднении они компенсируют переобученность друг-друга)."
   ]
  },
  {
   "cell_type": "code",
   "execution_count": 67,
   "metadata": {},
   "outputs": [],
   "source": [
    "scores = []\n",
    "ns = np.linspace(5, 200, 10).astype(int)\n",
    "for n in ns:\n",
    "  RFC = ensemble.RandomForestClassifier(n_estimators = n, random_state = 1)\n",
    "  scores.append(cross_val_score(RFC, digit_data, digit_label, cv=10).mean())"
   ]
  },
  {
   "cell_type": "code",
   "execution_count": 72,
   "metadata": {
    "collapsed": true
   },
   "outputs": [
    {
     "name": "stdout",
     "output_type": "stream",
     "text": [
      "For the number of trees = 5 we have score = 0.8904757245173723\n",
      "For the number of trees = 26 we have score = 0.9438095361062407\n",
      "For the number of trees = 48 we have score = 0.9526970445655241\n",
      "For the number of trees = 70 we have score = 0.9611606080408606\n",
      "For the number of trees = 91 we have score = 0.9572531522169033\n",
      "For the number of trees = 113 we have score = 0.9571979862116052\n",
      "For the number of trees = 135 we have score = 0.9561266228511924\n",
      "For the number of trees = 156 we have score = 0.9544629924531801\n",
      "For the number of trees = 178 we have score = 0.9544661664517836\n",
      "For the number of trees = 200 we have score = 0.9539136802639383\n"
     ]
    },
    {
     "data": {
      "image/png": "[encoded data removed]",
      "text/plain": [
       "<Figure size 432x288 with 1 Axes>"
      ]
     },
     "metadata": {},
     "output_type": "display_data"
    }
   ],
   "source": [
    "pylab.grid(True)\n",
    "pylab.ylim((0.7, 1.05))\n",
    "pylab.plot(ns, scores)\n",
    "\n",
    "for x, y in zip(ns, scores):\n",
    "    print('For the number of trees = {} we have score = {}'.format(x, y))"
   ]
  },
  {
   "cell_type": "code",
   "execution_count": 78,
   "metadata": {},
   "outputs": [],
   "source": [
    "n_features = np.linspace(1, 60, 10).astype(int)\n",
    "score_features = []\n",
    "for n in n_features:\n",
    "    RFC = ensemble.RandomForestClassifier(n_estimators = 100, max_features = n, random_state = 1)\n",
    "    score_features.append(cross_val_score(RFC, digit_data, digit_label, cv=10).mean())"
   ]
  },
  {
   "cell_type": "code",
   "execution_count": 79,
   "metadata": {},
   "outputs": [
    {
     "name": "stdout",
     "output_type": "stream",
     "text": [
      "For the number of features = 1 we have score = 0.9494546545666571\n",
      "For the number of features = 7 we have score = 0.9555148398109523\n",
      "For the number of features = 14 we have score = 0.9510914840878921\n",
      "For the number of features = 20 we have score = 0.9488468793539528\n",
      "For the number of features = 27 we have score = 0.9404907252279276\n",
      "For the number of features = 33 we have score = 0.941640781081445\n",
      "For the number of features = 40 we have score = 0.9460594268356788\n",
      "For the number of features = 46 we have score = 0.9366737484921821\n",
      "For the number of features = 53 we have score = 0.9349546930662737\n",
      "For the number of features = 60 we have score = 0.9276908701942931\n"
     ]
    },
    {
     "data": {
      "image/png": "[encoded data removed]",
      "text/plain": [
       "<Figure size 432x288 with 1 Axes>"
      ]
     },
     "metadata": {},
     "output_type": "display_data"
    }
   ],
   "source": [
    "pylab.ylim((0.5, 1.05))\n",
    "pylab.plot(n_features, score_features)\n",
    "\n",
    "for x, y in zip(n_features, score_features):\n",
    "    print('For the number of features = {} we have score = {}'.format(x, y))"
   ]
  },
  {
   "cell_type": "code",
   "execution_count": 80,
   "metadata": {},
   "outputs": [
    {
     "data": {
      "text/plain": [
       "0.9131637566499888"
      ]
     },
     "execution_count": 80,
     "metadata": {},
     "output_type": "execute_result"
    }
   ],
   "source": [
    "RFC_max_depth = ensemble.RandomForestClassifier(n_estimators = 100, max_depth = 5,  random_state = 1)\n",
    "cross_val_score(RFC_max_depth, digit_data, digit_label, cv=10).mean()"
   ]
  },
  {
   "cell_type": "code",
   "execution_count": 82,
   "metadata": {},
   "outputs": [
    {
     "data": {
      "text/plain": [
       "0.9572130012266203"
      ]
     },
     "execution_count": 82,
     "metadata": {},
     "output_type": "execute_result"
    }
   ],
   "source": [
    "RFC = ensemble.RandomForestClassifier(n_estimators = 100, random_state = 1)\n",
    "cross_val_score(RFC, digit_data, digit_label, cv=10).mean()"
   ]
  }
 ],
 "metadata": {
  "kernelspec": {
   "display_name": "Python 3",
   "language": "python",
   "name": "python3"
  },
  "language_info": {
   "codemirror_mode": {
    "name": "ipython",
    "version": 3
   },
   "file_extension": ".py",
   "mimetype": "text/x-python",
   "name": "python",
   "nbconvert_exporter": "python",
   "pygments_lexer": "ipython3",
   "version": "3.6.5"
  }
 },
 "nbformat": 4,
 "nbformat_minor": 2
}
