{
 "cells": [
  {
   "cell_type": "markdown",
   "metadata": {},
   "source": [
    "# Градиентный бустинг своими руками\n",
    "\n",
    "Целью задания будет реализовать простой вариант градиентного бустинга над регрессионными деревьями для случая квадратичной функции потерь."
   ]
  },
  {
   "cell_type": "code",
   "execution_count": 34,
   "metadata": {},
   "outputs": [],
   "source": [
    "import xgboost as xgb\n",
    "import pandas as pd\n",
    "import numpy as np\n",
    "from sklearn.datasets import load_boston\n",
    "from sklearn.model_selection import train_test_split\n",
    "from sklearn.metrics import mean_squared_error\n",
    "import sklearn.tree\n",
    "from sklearn.linear_model import LinearRegression\n",
    "from sklearn.ensemble import GradientBoostingRegressor"
   ]
  },
  {
   "cell_type": "code",
   "execution_count": 12,
   "metadata": {},
   "outputs": [],
   "source": [
    "boston = load_boston()\n",
    "X, y = boston.data, boston.target\n",
    "X_train, X_test, y_train, y_test = train_test_split(X, y, test_size=0.25, shuffle=False)"
   ]
  },
  {
   "cell_type": "markdown",
   "metadata": {},
   "source": [
    "## Задание 1\n",
    "\n",
    "Как вы уже знаете из лекций, **бустинг** - это метод построения композиций базовых алгоритмов с помощью последовательного добавления к текущей композиции нового алгоритма с некоторым коэффициентом. \n",
    "\n",
    "Градиентный бустинг обучает каждый новый алгоритм так, чтобы он приближал антиградиент ошибки по ответам композиции на обучающей выборке. Аналогично минимизации функций методом градиентного спуска, в градиентном бустинге мы подправляем композицию, изменяя алгоритм в направлении антиградиента ошибки.\n",
    "\n",
    "Воспользуйтесь формулой из лекций, задающей ответы на обучающей выборке, на которые нужно обучать новый алгоритм (фактически это лишь чуть более подробно расписанный градиент от ошибки), и получите частный ее случай, если функция потерь `L` - квадрат отклонения ответа композиции `a(x)` от правильного ответа `y` на данном `x`.\n",
    "\n",
    "Если вы давно не считали производную самостоятельно, вам поможет таблица производных элементарных функций (которую несложно найти в интернете) и правило дифференцирования сложной функции. После дифференцирования квадрата у вас возникнет множитель 2 — т.к. нам все равно предстоит выбирать коэффициент, с которым будет добавлен новый базовый алгоритм, проигноируйте этот множитель при дальнейшем построении алгоритма."
   ]
  },
  {
   "cell_type": "code",
   "execution_count": 3,
   "metadata": {},
   "outputs": [],
   "source": [
    "def grad_L (a, y):\n",
    "    return a-y"
   ]
  },
  {
   "cell_type": "markdown",
   "metadata": {},
   "source": [
    "## Задание 2\n",
    "\n",
    "Заведите массив для объектов `DecisionTreeRegressor` (будем их использовать в качестве базовых алгоритмов) и для вещественных чисел (это будут коэффициенты перед базовыми алгоритмами). \n",
    "\n",
    "В цикле от обучите последовательно 50 решающих деревьев с параметрами `max_depth=5` и `random_state=42` (остальные параметры - по умолчанию). В бустинге зачастую используются сотни и тысячи деревьев, но мы ограничимся 50, чтобы алгоритм работал быстрее, и его было проще отлаживать (т.к. цель задания разобраться, как работает метод). Каждое дерево должно обучаться на одном и том же множестве объектов, но ответы, которые учится прогнозировать дерево, будут меняться в соответствие с полученным в задании 1 правилом. \n",
    "\n",
    "Попробуйте для начала всегда брать коэффициент равным 0.9. Обычно оправдано выбирать коэффициент значительно меньшим - порядка 0.05 или 0.1, но т.к. в нашем учебном примере на стандартном датасете будет всего 50 деревьев, возьмем для начала шаг побольше.\n",
    "\n",
    "В процессе реализации обучения вам потребуется функция, которая будет вычислять прогноз построенной на данный момент композиции деревьев на выборке `X`:\n",
    "\n",
    "```\n",
    "def gbm_predict(X):\n",
    "    return [sum([coeff * algo.predict([x])[0] for algo, coeff in zip(base_algorithms_list, coefficients_list)]) for x in X]\n",
    "(считаем, что base_algorithms_list - список с базовыми алгоритмами, coefficients_list - список с коэффициентами перед алгоритмами)\n",
    "```\n",
    "\n",
    "Эта же функция поможет вам получить прогноз на контрольной выборке и оценить качество работы вашего алгоритма с помощью `mean_squared_error` в `sklearn.metrics`. \n",
    "\n",
    "Возведите результат в степень 0.5, чтобы получить `RMSE`. Полученное значение `RMSE` — **ответ в пункте 2**."
   ]
  },
  {
   "cell_type": "code",
   "execution_count": 13,
   "metadata": {},
   "outputs": [
    {
     "name": "stdout",
     "output_type": "stream",
     "text": [
      "5.476650974168948\n"
     ]
    }
   ],
   "source": [
    "base_algorithms = []\n",
    "coeffs = []\n",
    "\n",
    "def gbm_predict(X):\n",
    "    return [sum([coeff * algo.predict([x])[0] for algo, coeff in zip(base_algorithms,\n",
    "                                                                     coeffs)]) for x in X]\n",
    "s = y_train\n",
    "for _ in range(50):\n",
    "    clf = sklearn.tree.DecisionTreeRegressor(max_depth=5, random_state=42)\n",
    "    base_algorithms.append(clf.fit(X_train, y=s))\n",
    "    coeffs.append(0.9)\n",
    "    s = y_train - gbm_predict(X_train)\n",
    "\n",
    "y_pred = gbm_predict(X_test)\n",
    "mse = mean_squared_error(y_test, y_pred)\n",
    "rmse = mse**0.5\n",
    "print(rmse)"
   ]
  },
  {
   "cell_type": "code",
   "execution_count": 14,
   "metadata": {},
   "outputs": [],
   "source": [
    "with open('grad_boosting_ans1.txt', 'w') as fout:\n",
    "    fout.write(str(rmse))"
   ]
  },
  {
   "cell_type": "markdown",
   "metadata": {},
   "source": [
    "## Задание 3\n",
    "\n",
    "Вас может также беспокоить, что двигаясь с постоянным шагом, вблизи минимума ошибки ответы на обучающей выборке меняются слишком резко, перескакивая через минимум. \n",
    "\n",
    "Попробуйте уменьшать вес перед каждым алгоритмом с каждой следующей итерацией по формуле `0.9 / (1.0 + i)`, где `i` - номер итерации (от 0 до 49). Используйте качество работы алгоритма как **ответ в пункте 3**. \n",
    "\n",
    "В реальности часто применяется следующая стратегия выбора шага: как только выбран алгоритм, подберем коэффициент перед ним численным методом оптимизации таким образом, чтобы отклонение от правильных ответов было минимальным. Мы не будем предлагать вам реализовать это для выполнения задания, но рекомендуем попробовать разобраться с такой стратегией и реализовать ее при случае для себя."
   ]
  },
  {
   "cell_type": "code",
   "execution_count": 20,
   "metadata": {},
   "outputs": [
    {
     "name": "stdout",
     "output_type": "stream",
     "text": [
      "4.810893280258556\n"
     ]
    }
   ],
   "source": [
    "base_algorithms = []\n",
    "coeffs = []\n",
    "\n",
    "def gbm_predict(X):\n",
    "    return [sum([coeff * algo.predict([x])[0] for algo, coeff in zip(base_algorithms,\n",
    "                                                                     coeffs)]) for x in X]\n",
    "s = y_train\n",
    "for i in range(50):\n",
    "    clf = sklearn.tree.DecisionTreeRegressor(max_depth=5, random_state=42)\n",
    "    base_algorithms.append(clf.fit(X_train, y=s))\n",
    "    coeff = 0.9/(1.0+i)\n",
    "    coeffs.append(coeff)\n",
    "    s = y_train - gbm_predict(X_train)\n",
    "\n",
    "y_pred = gbm_predict(X_test)\n",
    "mse = mean_squared_error(y_test, y_pred)\n",
    "rmse = mse**0.5\n",
    "print(rmse)"
   ]
  },
  {
   "cell_type": "code",
   "execution_count": 21,
   "metadata": {},
   "outputs": [],
   "source": [
    "with open('grad_boosting_ans3.txt', 'w') as fout:\n",
    "    fout.write(str(rmse))"
   ]
  },
  {
   "cell_type": "markdown",
   "metadata": {},
   "source": [
    "## Задание 4\n",
    "\n",
    "Реализованный вами метод - градиентный бустинг над деревьями - очень популярен в машинном обучении. Он представлен как в самой библиотеке `sklearn`, так и в сторонней библиотеке `XGBoost`, которая имеет свой питоновский интерфейс. На практике `XGBoost` работает заметно лучше `GradientBoostingRegressor` из `sklearn`, но для этого задания вы можете использовать любую реализацию. \n",
    "\n",
    "Исследуйте, переобучается ли градиентный бустинг с ростом числа итераций (и подумайте, почему), а также с ростом глубины деревьев. На основе наблюдений выпишите через пробел номера правильных из приведенных ниже утверждений в порядке возрастания номера (это будет **ответ в п.4**):\n",
    "\n",
    "$+$ 1. С увеличением числа деревьев, начиная с некоторого момента, качество работы градиентного бустинга не меняется существенно.\n",
    "\n",
    "$-$ 2. С увеличением числа деревьев, начиная с некоторого момента, градиентный бустинг начинает переобучаться.\n",
    "\n",
    "$-$ 3. С ростом глубины деревьев, начиная с некоторого момента, качество работы градиентного бустинга на тестовой выборке начинает ухудшаться.\n",
    "\n",
    "$+$ 4. С ростом глубины деревьев, начиная с некоторого момента, качество работы градиентного бустинга перестает существенно изменяться"
   ]
  },
  {
   "cell_type": "code",
   "execution_count": 39,
   "metadata": {
    "scrolled": true
   },
   "outputs": [
    {
     "name": "stdout",
     "output_type": "stream",
     "text": [
      "For XGBoost Library we have results:\n",
      "\n",
      "5\t:\t4.781178248189801\n",
      "10\t:\t4.781178248189801\n",
      "25\t:\t4.781178248189801\n",
      "50\t:\t4.781178248189801\n",
      "100\t:\t4.781178248189801\n",
      "150\t:\t4.781178248189801\n",
      "200\t:\t4.781178248189801\n",
      "300\t:\t4.781178248189801\n",
      "400\t:\t4.781178248189801\n",
      "500\t:\t4.781178248189801\n",
      "750\t:\t4.781178248189801\n",
      "1000\t:\t4.781178248189801\n",
      "5000\t:\t4.781178248189801\n",
      "\n",
      "\n",
      "\n",
      "For GradientBoostingRegressor from Scikit-Learn Library we have results:\n",
      "\n",
      "5\t:\t8.800872993688943\n",
      "10\t:\t7.451904949335349\n",
      "25\t:\t5.958083135091504\n",
      "50\t:\t4.951505733993053\n",
      "100\t:\t4.600706897186259\n",
      "150\t:\t4.462501313630916\n",
      "200\t:\t4.428517872766391\n",
      "300\t:\t4.404364098685631\n",
      "400\t:\t4.347345258460942\n",
      "500\t:\t4.405670980682109\n",
      "750\t:\t4.383682118262847\n",
      "1000\t:\t4.395831334299165\n",
      "5000\t:\t4.406136077807434\n"
     ]
    }
   ],
   "source": [
    "n_rounds_list = [5, 10, 25, 50, 100, 150, 200, 300, 400, 500, 750, 1000, 5000]\n",
    "\n",
    "print ('For XGBoost Library we have results:\\n')\n",
    "for n_round in n_rounds_list:\n",
    "    clf=xgb.XGBRegressor(n_rounds=n_round)\n",
    "    clf.fit(X_train, y_train)\n",
    "    y_pred = clf.predict(X_test)\n",
    "    RMSE = mean_squared_error(y_test, y_pred)**0.5\n",
    "    print(n_round, ':', RMSE, sep = '\\t')\n",
    "\n",
    "print ('\\n\\n\\nFor GradientBoostingRegressor from Scikit-Learn Library we have results:\\n')\n",
    "\n",
    "for n_estimators in n_rounds_list:\n",
    "    clf = GradientBoostingRegressor(n_estimators = n_estimators)\n",
    "    clf.fit(X_train, y_train)\n",
    "    y_pred = clf.predict(X_test)\n",
    "    RMSE = mean_squared_error(y_test, y_pred)**0.5\n",
    "    print(n_estimators, ':', RMSE, sep = '\\t')    "
   ]
  },
  {
   "cell_type": "code",
   "execution_count": 43,
   "metadata": {},
   "outputs": [
    {
     "name": "stdout",
     "output_type": "stream",
     "text": [
      "For XGBoost Library we have results:\n",
      "\n",
      "1\t:\t5.845673705294591\n",
      "2\t:\t5.1929840904087845\n",
      "5\t:\t4.8828541569051875\n",
      "10\t:\t5.246506254373936\n",
      "20\t:\t5.156707667939347\n",
      "50\t:\t5.15705830221462\n",
      "100\t:\t5.15705830221462\n",
      "500\t:\t5.15705830221462\n",
      "\n",
      "\n",
      "\n",
      "For GradientBoostingRegressor from Scikit-Learn Library we have results:\n",
      "\n",
      "1\t:\t5.670294540463705\n",
      "2\t:\t4.983706979196635\n",
      "5\t:\t4.988301809193196\n",
      "10\t:\t5.944007068662538\n",
      "20\t:\t5.767719786695922\n",
      "50\t:\t6.047386151058466\n",
      "100\t:\t5.824932003618893\n",
      "500\t:\t5.696295673509763\n"
     ]
    }
   ],
   "source": [
    "max_depth_list = [1, 2, 5, 10, 20, 50, 100, 500]\n",
    "\n",
    "print ('For XGBoost Library we have results:\\n')\n",
    "for max_depth in max_depth_list:\n",
    "    clf=xgb.XGBRegressor(max_depth=max_depth)\n",
    "    clf.fit(X_train, y_train)\n",
    "    y_pred = clf.predict(X_test)\n",
    "    RMSE = mean_squared_error(y_test, y_pred)**0.5\n",
    "    print(max_depth, ':', RMSE, sep = '\\t')\n",
    "\n",
    "print ('\\n\\n\\nFor GradientBoostingRegressor from Scikit-Learn Library we have results:\\n')\n",
    "\n",
    "for max_depth in max_depth_list:\n",
    "    clf = GradientBoostingRegressor(max_depth=max_depth)\n",
    "    clf.fit(X_train, y_train)\n",
    "    y_pred = clf.predict(X_test)\n",
    "    RMSE = mean_squared_error(y_test, y_pred)**0.5\n",
    "    print(max_depth, ':', RMSE, sep = '\\t')    "
   ]
  },
  {
   "cell_type": "code",
   "execution_count": 49,
   "metadata": {},
   "outputs": [],
   "source": [
    "ans4 = [1, 4]"
   ]
  },
  {
   "cell_type": "code",
   "execution_count": 53,
   "metadata": {},
   "outputs": [],
   "source": [
    "with open('grad_boosting_ans4.txt', 'w') as fout:\n",
    "    fout.write(str(ans4))"
   ]
  },
  {
   "cell_type": "markdown",
   "metadata": {},
   "source": [
    "## Задание 5\n",
    "\n",
    "Сравните получаемое с помощью градиентного бустинга качество с качеством работы линейной регрессии. \n",
    "\n",
    "Для этого обучите `LinearRegression` из `sklearn.linear_model` (с параметрами по умолчанию) на обучающей выборке и оцените для прогнозов полученного алгоритма на тестовой выборке `RMSE`. Полученное качество - ответ в **пункте 5**. \n",
    "\n",
    "В данном примере качество работы простой модели должно было оказаться хуже, но не стоит забывать, что так бывает не всегда. В заданиях к этому курсу вы еще встретите пример обратной ситуации."
   ]
  },
  {
   "cell_type": "code",
   "execution_count": 16,
   "metadata": {},
   "outputs": [],
   "source": [
    "LinRegClf = LinearRegression()\n",
    "LinRegClf.fit(X_train, y_train)\n",
    "y_pred = LinRegClf.predict(X_test)\n",
    "rmse_lin_reg = mean_squared_error(y_test, y_pred)**0.5"
   ]
  },
  {
   "cell_type": "code",
   "execution_count": 18,
   "metadata": {},
   "outputs": [
    {
     "name": "stdout",
     "output_type": "stream",
     "text": [
      "8.270468034938244\n"
     ]
    }
   ],
   "source": [
    "print(rmse_lin_reg)"
   ]
  },
  {
   "cell_type": "code",
   "execution_count": 19,
   "metadata": {},
   "outputs": [],
   "source": [
    "with open('grad_boosting_ans5.txt', 'w') as fout:\n",
    "    fout.write(str(rmse_lin_reg))"
   ]
  }
 ],
 "metadata": {
  "kernelspec": {
   "display_name": "Python 3",
   "language": "python",
   "name": "python3"
  },
  "language_info": {
   "codemirror_mode": {
    "name": "ipython",
    "version": 3
   },
   "file_extension": ".py",
   "mimetype": "text/x-python",
   "name": "python",
   "nbconvert_exporter": "python",
   "pygments_lexer": "ipython3",
   "version": "3.6.5"
  }
 },
 "nbformat": 4,
 "nbformat_minor": 1
}
